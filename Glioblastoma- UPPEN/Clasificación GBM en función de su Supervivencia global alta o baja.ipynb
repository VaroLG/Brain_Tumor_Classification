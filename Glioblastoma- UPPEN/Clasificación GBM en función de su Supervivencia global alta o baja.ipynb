{
 "cells": [
  {
   "cell_type": "code",
   "execution_count": 1,
   "id": "52e1cf72-170b-4ddc-bbe9-cd9b2f9de095",
   "metadata": {},
   "outputs": [],
   "source": [
    "import os\n",
    "import random\n",
    "import shutil"
   ]
  },
  {
   "cell_type": "code",
   "execution_count": 36,
   "id": "f0e06b93-2a64-4b95-a0a1-9c08c874c2d3",
   "metadata": {},
   "outputs": [
    {
     "data": {
      "text/plain": [
       "['SG alta', 'SG baja']"
      ]
     },
     "execution_count": 36,
     "metadata": {},
     "output_type": "execute_result"
    }
   ],
   "source": [
    "base_dir = r\"directorio donde se guardan las imágenes de GBM los cuales se van a clasificar Supervivencia global alta o ba alta o baja \"\n",
    "os.listdir(base_dir)"
   ]
  },
  {
   "cell_type": "code",
   "execution_count": 37,
   "id": "9ec02cd9-adb8-4961-92ec-cb15d6036d8d",
   "metadata": {},
   "outputs": [
    {
     "name": "stdout",
     "output_type": "stream",
     "text": [
      "División completada. Las imágenes están organizadas en la carpeta output.\n"
     ]
    }
   ],
   "source": [
    "# Configuración\n",
    "input_folders = [os.path.join(base_dir, \"SG alta\"), os.path.join(base_dir, \"SG baja\")]\n",
    " # Lista de carpetas con imágenes\n",
    "output_base = \"base_dir\"  # Carpeta base donde se guardarán los conjuntos\n",
    "data_split = {\"train\": 0.6, \"val\": 0.15, \"test\": 0.25}  # Proporciones\n",
    "\n",
    "# Crear directorios de salida\n",
    "for subset in [\"train\", \"val\", \"test\"]:\n",
    "    subset_path = os.path.join(base_dir, subset)\n",
    "    if not os.path.exists(subset_path):\n",
    "        os.makedirs(subset_path)\n",
    "\n",
    "# Función para copiar imágenes\n",
    "\n",
    "def copy_images(images, subset, label):\n",
    "    subset_path = os.path.join(base_dir, subset, label)\n",
    "    if not os.path.exists(subset_path):\n",
    "        os.makedirs(subset_path)\n",
    "    for img in images:\n",
    "        shutil.copy(img, subset_path)\n",
    "\n",
    "# Procesar cada carpeta\n",
    "for folder in input_folders:\n",
    "    label = os.path.basename(folder)  # Usar el nombre de la carpeta como etiqueta\n",
    "    all_images = [os.path.join(folder, f) for f in os.listdir(folder) if os.path.isfile(os.path.join(folder, f))]\n",
    "    \n",
    "    # Mezclar aleatoriamente\n",
    "    random.shuffle(all_images)\n",
    "    \n",
    "    # Calcular tamaño de cada conjunto\n",
    "    total = len(all_images)\n",
    "    train_size = int(total * data_split[\"train\"])\n",
    "    val_size = int(total * data_split[\"val\"])\n",
    "    \n",
    "    # Dividir las imágenes\n",
    "    train_images = all_images[:train_size]\n",
    "    val_images = all_images[train_size:train_size + val_size]\n",
    "    test_images = all_images[train_size + val_size:]\n",
    "    \n",
    "    # Copiar las imágenes a las carpetas correspondientes\n",
    "    copy_images(train_images, \"train\", label)\n",
    "    copy_images(val_images, \"val\", label)\n",
    "    copy_images(test_images, \"test\", label)\n",
    "\n",
    "print(\"División completada. Las imágenes están organizadas en la carpeta output.\")\n"
   ]
  },
  {
   "cell_type": "code",
   "execution_count": 34,
   "id": "b1768595-e106-4b95-b180-910ada3fb048",
   "metadata": {},
   "outputs": [
    {
     "data": {
      "text/plain": [
       "['M', 'U']"
      ]
     },
     "execution_count": 34,
     "metadata": {},
     "output_type": "execute_result"
    }
   ],
   "source": [
    "base_dir = r\"C:\\Users\\alvar\\Desktop\\Bioinfor y Bioest\\TFM\\Base de datos Glioblastoma UPENN\\Imagenes_CNN\\MGMT\"\n",
    "os.listdir(base_dir)"
   ]
  },
  {
   "cell_type": "code",
   "execution_count": 35,
   "id": "0996c3fb-b6b2-474a-a844-9283363c1cca",
   "metadata": {},
   "outputs": [
    {
     "name": "stdout",
     "output_type": "stream",
     "text": [
      "División completada. Las imágenes están organizadas en la carpeta output.\n"
     ]
    }
   ],
   "source": [
    "# Configuración\n",
    "input_folders = [os.path.join(base_dir, \"M\"), os.path.join(base_dir, \"U\")]\n",
    "  # Lista de carpetas con imágenes\n",
    "output_base = \"base_dir\"  # Carpeta base donde se guardarán los conjuntos\n",
    "data_split = {\"train\": 0.6, \"val\": 0.15, \"test\": 0.25}  # Proporciones\n",
    "\n",
    "# Crear directorios de salida\n",
    "for subset in [\"train\", \"val\", \"test\"]:\n",
    "    subset_path = os.path.join(base_dir, subset)\n",
    "    if not os.path.exists(subset_path):\n",
    "        os.makedirs(subset_path)\n",
    "\n",
    "# Función para copiar imágenes\n",
    "\n",
    "def copy_images(images, subset, label):\n",
    "    subset_path = os.path.join(base_dir, subset, label)\n",
    "    if not os.path.exists(subset_path):\n",
    "        os.makedirs(subset_path)\n",
    "    for img in images:\n",
    "        shutil.copy(img, subset_path)\n",
    "\n",
    "# Procesar cada carpeta\n",
    "for folder in input_folders:\n",
    "    label = os.path.basename(folder)  # Usar el nombre de la carpeta como etiqueta\n",
    "    all_images = [os.path.join(folder, f) for f in os.listdir(folder) if os.path.isfile(os.path.join(folder, f))]\n",
    "    \n",
    "    # Mezclar aleatoriamente\n",
    "    random.shuffle(all_images)\n",
    "    \n",
    "    # Calcular tamaño de cada conjunto\n",
    "    total = len(all_images)\n",
    "    train_size = int(total * data_split[\"train\"])\n",
    "    val_size = int(total * data_split[\"val\"])\n",
    "    \n",
    "    # Dividir las imágenes\n",
    "    train_images = all_images[:train_size]\n",
    "    val_images = all_images[train_size:train_size + val_size]\n",
    "    test_images = all_images[train_size + val_size:]\n",
    "    \n",
    "    # Copiar las imágenes a las carpetas correspondientes\n",
    "    copy_images(train_images, \"train\", label)\n",
    "    copy_images(val_images, \"val\", label)\n",
    "    copy_images(test_images, \"test\", label)\n",
    "\n",
    "print(\"División completada. Las imágenes están organizadas en la carpeta output.\")\n"
   ]
  },
  {
   "cell_type": "code",
   "execution_count": null,
   "id": "5db8c05f-a9a0-4ad7-a0bb-9b772986bd2a",
   "metadata": {},
   "outputs": [],
   "source": []
  },
  {
   "cell_type": "code",
   "execution_count": 26,
   "id": "e540501c-0193-43d7-b4e8-125c7a14a12d",
   "metadata": {},
   "outputs": [
    {
     "data": {
      "text/plain": [
       "['M', 'test', 'train', 'val', 'W']"
      ]
     },
     "execution_count": 26,
     "metadata": {},
     "output_type": "execute_result"
    }
   ],
   "source": [
    "base_dir = r\"C:\\Users\\alvar\\Desktop\\Bioinfor y Bioest\\TFM\\Base de datos Glioblastoma UPENN\\Imagenes_CNN\\IDH1\"\n",
    "os.listdir(base_dir)"
   ]
  },
  {
   "cell_type": "code",
   "execution_count": 25,
   "id": "95eb3ef0-51d7-4fdf-a649-1fd3fcba8b29",
   "metadata": {},
   "outputs": [
    {
     "name": "stdout",
     "output_type": "stream",
     "text": [
      "División completada. Las imágenes están organizadas en la carpeta output.\n"
     ]
    }
   ],
   "source": [
    "# Configuración\n",
    "input_folders = [os.path.join(base_dir, \"W\"), os.path.join(base_dir, \"M\")]\n",
    "  # Lista de carpetas con imágenes\n",
    "output_base = \"base_dir\"  # Carpeta base donde se guardarán los conjuntos\n",
    "data_split = {\"train\": 0.6, \"val\": 0.15, \"test\": 0.25}  # Proporciones\n",
    "\n",
    "# Crear directorios de salida\n",
    "for subset in [\"train\", \"val\", \"test\"]:\n",
    "    subset_path = os.path.join(base_dir, subset)\n",
    "    if not os.path.exists(subset_path):\n",
    "        os.makedirs(subset_path)\n",
    "\n",
    "# Función para copiar imágenes\n",
    "\n",
    "def copy_images(images, subset, label):\n",
    "    subset_path = os.path.join(base_dir, subset, label)\n",
    "    if not os.path.exists(subset_path):\n",
    "        os.makedirs(subset_path)\n",
    "    for img in images:\n",
    "        shutil.copy(img, subset_path)\n",
    "\n",
    "# Procesar cada carpeta\n",
    "for folder in input_folders:\n",
    "    label = os.path.basename(folder)  # Usar el nombre de la carpeta como etiqueta\n",
    "    all_images = [os.path.join(folder, f) for f in os.listdir(folder) if os.path.isfile(os.path.join(folder, f))]\n",
    "    \n",
    "    # Mezclar aleatoriamente\n",
    "    random.shuffle(all_images)\n",
    "    \n",
    "    # Calcular tamaño de cada conjunto\n",
    "    total = len(all_images)\n",
    "    train_size = int(total * data_split[\"train\"])\n",
    "    val_size = int(total * data_split[\"val\"])\n",
    "    \n",
    "    # Dividir las imágenes\n",
    "    train_images = all_images[:train_size]\n",
    "    val_images = all_images[train_size:train_size + val_size]\n",
    "    test_images = all_images[train_size + val_size:]\n",
    "    \n",
    "    # Copiar las imágenes a las carpetas correspondientes\n",
    "    copy_images(train_images, \"train\", label)\n",
    "    copy_images(val_images, \"val\", label)\n",
    "    copy_images(test_images, \"test\", label)\n",
    "\n",
    "print(\"División completada. Las imágenes están organizadas en la carpeta output.\")\n"
   ]
  },
  {
   "cell_type": "code",
   "execution_count": 3,
   "id": "0f30ca82-7d7b-4fa5-81ef-3af3b62fd621",
   "metadata": {},
   "outputs": [
    {
     "name": "stdout",
     "output_type": "stream",
     "text": [
      "train path: C:\\Users\\alvar\\Desktop\\Bioinfor y Bioest\\TFM\\Rembrand\\Glioma_clasificación/train/\n",
      "test path: C:\\Users\\alvar\\Desktop\\Bioinfor y Bioest\\TFM\\Rembrand\\Glioma_clasificación/test/\n",
      "validation path: C:\\Users\\alvar\\Desktop\\Bioinfor y Bioest\\TFM\\Rembrand\\Glioma_clasificación/val/\n"
     ]
    }
   ],
   "source": [
    "train_path = dir + '/train/'\n",
    "test_path = dir + '/test/'\n",
    "validation_path = dir + '/val/'\n",
    "print(\"train path:\", train_path)\n",
    "print(\"test path:\", test_path)\n",
    "print(\"validation path:\", validation_path)"
   ]
  }
 ],
 "metadata": {
  "kernelspec": {
   "display_name": "Python 3 (ipykernel)",
   "language": "python",
   "name": "python3"
  },
  "language_info": {
   "codemirror_mode": {
    "name": "ipython",
    "version": 3
   },
   "file_extension": ".py",
   "mimetype": "text/x-python",
   "name": "python",
   "nbconvert_exporter": "python",
   "pygments_lexer": "ipython3",
   "version": "3.10.13"
  }
 },
 "nbformat": 4,
 "nbformat_minor": 5
}
