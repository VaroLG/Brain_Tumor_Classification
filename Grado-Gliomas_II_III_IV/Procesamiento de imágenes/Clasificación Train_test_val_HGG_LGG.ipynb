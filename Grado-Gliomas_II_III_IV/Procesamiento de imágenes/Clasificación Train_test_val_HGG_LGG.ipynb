{
 "cells": [
  {
   "cell_type": "code",
   "execution_count": 17,
   "id": "52e1cf72-170b-4ddc-bbe9-cd9b2f9de095",
   "metadata": {},
   "outputs": [],
   "source": [
    "import os\n",
    "import random\n",
    "import shutil"
   ]
  },
  {
   "cell_type": "code",
   "execution_count": 18,
   "id": "f0e06b93-2a64-4b95-a0a1-9c08c874c2d3",
   "metadata": {},
   "outputs": [
    {
     "data": {
      "text/plain": [
       "['HGG', 'LGG']"
      ]
     },
     "execution_count": 18,
     "metadata": {},
     "output_type": "execute_result"
    }
   ],
   "source": [
    "base_dir = r\"directorio donde se encuentren las imágenes previamente transformadas a .png\"\n",
    "os.listdir(base_dir)"
   ]
  },
  {
   "cell_type": "code",
   "execution_count": 21,
   "id": "7f464d00-e5ae-453e-af2a-2451fe7c43f6",
   "metadata": {},
   "outputs": [
    {
     "name": "stdout",
     "output_type": "stream",
     "text": [
      "['C:\\\\HGG', 'C:\\\\LGG']\n"
     ]
    }
   ],
   "source": [
    "print(input_folders)"
   ]
  },
  {
   "cell_type": "code",
   "execution_count": 24,
   "id": "9ec02cd9-adb8-4961-92ec-cb15d6036d8d",
   "metadata": {},
   "outputs": [
    {
     "name": "stdout",
     "output_type": "stream",
     "text": [
      "División completada. Las imágenes están organizadas en la carpeta output.\n"
     ]
    }
   ],
   "source": [
    "# Configuración\n",
    "input_folders = [os.path.join(base_dir, \"HGG\"), os.path.join(base_dir, \"LGG\")]\n",
    " # Lista de carpetas con imágenes\n",
    "output_base = r\"C:\\Users\\alvar\\Desktop\\Bioinfor y Bioest\\TFM\\Rembrand\\LGG_HGG\\train_test_val\"  # Carpeta base donde se guardarán los conjuntos\n",
    "data_split = {\"train\": 0.6, \"val\": 0.20, \"test\": 0.20}  # Proporciones\n",
    "\n",
    "# Crear directorios de salida\n",
    "for subset in [\"train\", \"val\", \"test\"]:\n",
    "    subset_path = os.path.join(output_base, subset)\n",
    "    if not os.path.exists(subset_path):\n",
    "        os.makedirs(subset_path)\n",
    "\n",
    "# Función para copiar imágenes y clasificar por subtipo y etiqueta\n",
    "def copy_images(images, subset, label):\n",
    "    subset_path = os.path.join(base_dir, subset, label)\n",
    "    if not os.path.exists(subset_path):\n",
    "        os.makedirs(subset_path)\n",
    "    for img in images:\n",
    "        shutil.copy(img, subset_path)\n",
    "\n",
    "# Procesar cada carpeta\n",
    "for folder in input_folders:\n",
    "    label = os.path.basename(folder)  # Usar el nombre de la carpeta como etiqueta\n",
    "    all_images = [os.path.join(folder, f) for f in os.listdir(folder) if os.path.isfile(os.path.join(folder, f))]\n",
    "    \n",
    "    # Mezclar aleatoriamente\n",
    "    random.shuffle(all_images)\n",
    "    \n",
    "    # Calcular tamaño de cada conjunto y dividir en grupos de entrenamiento, validación y test según lo establecido.\n",
    "    total = len(all_images)\n",
    "    train_size = int(total * data_split[\"train\"])\n",
    "    val_size = int(total * data_split[\"val\"])\n",
    "    train_images = all_images[:train_size]\n",
    "    val_images = all_images[train_size:train_size + val_size]\n",
    "    test_images = all_images[train_size + val_size:]\n",
    "    \n",
    "    # Copiar las imágenes a las carpetas correspondientes con sus etiquetas.\n",
    "    copy_images(train_images, \"train\", label)\n",
    "    copy_images(val_images, \"val\", label)\n",
    "    copy_images(test_images, \"test\", label)\n"
   ]
  },
  {
   "cell_type": "code",
   "execution_count": 3,
   "id": "0f30ca82-7d7b-4fa5-81ef-3af3b62fd621",
   "metadata": {},
   "outputs": [
    {
     "name": "stdout",
     "output_type": "stream",
     "text": [
      "train path: C:\\Users\\alvar\\Desktop\\Bioinfor y Bioest\\TFM\\Rembrand\\Glioma_clasificación/train/\n",
      "test path: C:\\Users\\alvar\\Desktop\\Bioinfor y Bioest\\TFM\\Rembrand\\Glioma_clasificación/test/\n",
      "validation path: C:\\Users\\alvar\\Desktop\\Bioinfor y Bioest\\TFM\\Rembrand\\Glioma_clasificación/val/\n"
     ]
    }
   ],
   "source": [
    "train_path = dir + '/train/'\n",
    "test_path = dir + '/test/'\n",
    "validation_path = dir + '/val/'\n",
    "print(\"train path:\", train_path)\n",
    "print(\"test path:\", test_path)\n",
    "print(\"validation path:\", validation_path)\n",
    "\n",
    "print(\"División completada. Las imágenes están organizadas en las siguientes carpetas.\")"
   ]
  }
 ],
 "metadata": {
  "kernelspec": {
   "display_name": "Python 3 (ipykernel)",
   "language": "python",
   "name": "python3"
  },
  "language_info": {
   "codemirror_mode": {
    "name": "ipython",
    "version": 3
   },
   "file_extension": ".py",
   "mimetype": "text/x-python",
   "name": "python",
   "nbconvert_exporter": "python",
   "pygments_lexer": "ipython3",
   "version": "3.10.13"
  }
 },
 "nbformat": 4,
 "nbformat_minor": 5
}
